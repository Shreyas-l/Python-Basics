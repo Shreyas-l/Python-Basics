{
  "nbformat": 4,
  "nbformat_minor": 0,
  "metadata": {
    "colab": {
      "name": "Precursor_DL_Workshop_Level_0.ipynb",
      "provenance": []
    },
    "kernelspec": {
      "name": "python3",
      "display_name": "Python 3"
    }
  },
  "cells": [
    {
      "cell_type": "markdown",
      "metadata": {
        "id": "K7IBsu9ELkQs",
        "colab_type": "text"
      },
      "source": [
        "# Datatypes and Operators"
      ]
    },
    {
      "cell_type": "code",
      "metadata": {
        "id": "YhVm7P9ZLbCr",
        "colab_type": "code",
        "outputId": "cb7f4445-4049-4234-e3e5-426cfa068bc2",
        "colab": {
          "base_uri": "https://localhost:8080/",
          "height": 70
        }
      },
      "source": [
        "#Basic Numeric and String datatypes\n",
        "\n",
        "a = 5\n",
        "b = 10\n",
        "c = \"Welcome to Workshop on Deep Learning\"\n",
        "\n",
        "print(\"a is : \",a)\n",
        "print(\"b is : \",b)\n",
        "print(\"c is : \",c)"
      ],
      "execution_count": 0,
      "outputs": [
        {
          "output_type": "stream",
          "text": [
            "a is :  5\n",
            "b is :  10\n",
            "c is :  Welcome to Workshop on Deep Learning\n"
          ],
          "name": "stdout"
        }
      ]
    },
    {
      "cell_type": "code",
      "metadata": {
        "id": "ZYUEZa0vMRqR",
        "colab_type": "code",
        "outputId": "582a3662-1631-4be2-ce12-0be5f251c02a",
        "colab": {
          "base_uri": "https://localhost:8080/",
          "height": 34
        }
      },
      "source": [
        "p,q,r = 10, 20, \"Pretty good start\"\n",
        "print(\"p : \",p,\"q : \",q,\"r : \",r)"
      ],
      "execution_count": 0,
      "outputs": [
        {
          "output_type": "stream",
          "text": [
            "p :  10 q :  20 r :  Pretty good start\n"
          ],
          "name": "stdout"
        }
      ]
    },
    {
      "cell_type": "markdown",
      "metadata": {
        "id": "YpD_QtgNMlUM",
        "colab_type": "text"
      },
      "source": [
        "## Lists"
      ]
    },
    {
      "cell_type": "code",
      "metadata": {
        "id": "m7H5Z6EwMp9L",
        "colab_type": "code",
        "outputId": "739d8bd3-043d-45c6-a864-525620b85517",
        "colab": {
          "base_uri": "https://localhost:8080/",
          "height": 105
        }
      },
      "source": [
        "# A type of arrays\n",
        "primes = [2,3,5,7,11,13,17,19]\n",
        "days = ['Mon','Tue','Wed','Thur','Fri','Sat']\n",
        "mix = ['Apple','Mango',55,33,66]\n",
        "\n",
        "print(primes)\n",
        "print(days)\n",
        "print(mix)\n",
        "\n",
        "# Getting the size of the list\n",
        "\n",
        "print(\"No. of primes : \",len(primes))\n",
        "print(\"Size of mix : \",len(mix))"
      ],
      "execution_count": 0,
      "outputs": [
        {
          "output_type": "stream",
          "text": [
            "[2, 3, 5, 7, 11, 13, 17, 19]\n",
            "['Mon', 'Tue', 'Wed', 'Thur', 'Fri', 'Sat']\n",
            "['Apple', 'Mango', 55, 33, 66]\n",
            "No. of primes :  8\n",
            "Size of mix :  5\n"
          ],
          "name": "stdout"
        }
      ]
    },
    {
      "cell_type": "code",
      "metadata": {
        "id": "kLHR2qXzNZaj",
        "colab_type": "code",
        "outputId": "45ed61ae-768d-421a-c5ff-55b915adce04",
        "colab": {
          "base_uri": "https://localhost:8080/",
          "height": 70
        }
      },
      "source": [
        "print(\"Third prime : \",primes[2])\n",
        "print(\"A block of elements : \",days[2:5])\n",
        "print(\"Negative indices : \",mix[-2])"
      ],
      "execution_count": 0,
      "outputs": [
        {
          "output_type": "stream",
          "text": [
            "Third prime :  5\n",
            "A block of elements :  ['Wed', 'Thur', 'Fri']\n",
            "Negative indices :  33\n"
          ],
          "name": "stdout"
        }
      ]
    },
    {
      "cell_type": "code",
      "metadata": {
        "id": "vs5UhXAnOQbU",
        "colab_type": "code",
        "outputId": "5c1caafb-6c11-4fc0-ad35-d8507b58a2f1",
        "colab": {
          "base_uri": "https://localhost:8080/",
          "height": 70
        }
      },
      "source": [
        "# Adding elements to list\n",
        "primes.append(23)\n",
        "primes.append(29)\n",
        "print(primes)\n",
        "\n",
        "# Adding anywhere (Replacing)\n",
        "\n",
        "mix[2] = \"Banana\"\n",
        "\n",
        "print(mix)\n",
        "\n",
        "# Adding anywhere (Inserting)\n",
        "mix.insert(3,\"Orange\")\n",
        "print(mix)"
      ],
      "execution_count": 0,
      "outputs": [
        {
          "output_type": "stream",
          "text": [
            "[2, 3, 5, 7, 11, 13, 17, 19, 23, 29, 23, 29]\n",
            "['Apple', 'Mango', 'Banana', 33, 66]\n",
            "['Apple', 'Mango', 'Banana', 'Orange', 33, 66]\n"
          ],
          "name": "stdout"
        }
      ]
    },
    {
      "cell_type": "code",
      "metadata": {
        "id": "rfxqMAGoQNvu",
        "colab_type": "code",
        "outputId": "9e03505c-9f71-4545-f028-e8ef82e8b037",
        "colab": {
          "base_uri": "https://localhost:8080/",
          "height": 70
        }
      },
      "source": [
        "# Methods of lists\n",
        "\n",
        "# sort\n",
        "\n",
        "days.sort()\n",
        "print(days)\n",
        "\n",
        "# reverse\n",
        "days.reverse()\n",
        "print(days)\n",
        "\n",
        "mix.append('Mango')\n",
        "mix.append('Mango')\n",
        "mix.append('Mango')\n",
        "\n",
        "print(\"Number of Mangoes : \",mix.count('Mango'))\n"
      ],
      "execution_count": 0,
      "outputs": [
        {
          "output_type": "stream",
          "text": [
            "['Fri', 'Mon', 'Sat', 'Thur', 'Tue', 'Wed']\n",
            "['Wed', 'Tue', 'Thur', 'Sat', 'Mon', 'Fri']\n",
            "Number of Mangoes :  4\n"
          ],
          "name": "stdout"
        }
      ]
    },
    {
      "cell_type": "markdown",
      "metadata": {
        "id": "lTSa-O9dS7UG",
        "colab_type": "text"
      },
      "source": [
        "## Dictionaries"
      ]
    },
    {
      "cell_type": "code",
      "metadata": {
        "id": "gEbmqfGUSoqC",
        "colab_type": "code",
        "outputId": "c74993e7-d60a-43e6-c63e-d74703a4a906",
        "colab": {
          "base_uri": "https://localhost:8080/",
          "height": 176
        }
      },
      "source": [
        "# Lists are ordered sets of objects, whereas dictionaries are unordered sets. \n",
        "# But the main difference is that items in dictionaries are accessed via keys and not via their position.\n",
        "tel = {'Hunt': 4098, 'Benji': 4139}\n",
        "tel['Faust'] = 4127\n",
        "print(\"Dictionary contains : \",tel)\n",
        "print(\"Accessing via keys : \",tel['Hunt'])\n",
        "del tel['Benji']\n",
        "tel['Lane'] = 4127\n",
        "print(\"After adding and deleting some elements : \",tel)\n",
        "print(\"Printing keys : \",tel.keys())\n",
        "print(\"Sorting on keys : \",sorted(tel.keys()))\n",
        "print(\"Sorting on values : \",sorted(tel.values()))\n",
        "print(\"Checking for presence of an element : \",'Lane' in tel)\n",
        "print(\"Checking for ABSENCE of an element : \",'Benji' not in tel)\n",
        "print('Benji' in tel)"
      ],
      "execution_count": 0,
      "outputs": [
        {
          "output_type": "stream",
          "text": [
            "Dictionary contains :  {'Hunt': 4098, 'Benji': 4139, 'Faust': 4127}\n",
            "Accessing via keys :  4098\n",
            "After adding and deleting some elements :  {'Hunt': 4098, 'Faust': 4127, 'Lane': 4127}\n",
            "Printing keys :  dict_keys(['Hunt', 'Faust', 'Lane'])\n",
            "Sorting on keys :  ['Faust', 'Hunt', 'Lane']\n",
            "Sorting on values :  [4098, 4127, 4127]\n",
            "Checking for presence of an element :  True\n",
            "Checking for ABSENCE of an element :  True\n",
            "False\n"
          ],
          "name": "stdout"
        }
      ]
    },
    {
      "cell_type": "markdown",
      "metadata": {
        "id": "S3-UQxg7VOvg",
        "colab_type": "text"
      },
      "source": [
        "## Sets"
      ]
    },
    {
      "cell_type": "code",
      "metadata": {
        "id": "_NghxBvGVQqe",
        "colab_type": "code",
        "outputId": "b89c61a3-5927-46aa-cf4c-4039eec369a5",
        "colab": {
          "base_uri": "https://localhost:8080/",
          "height": 212
        }
      },
      "source": [
        "A = {1,2,3,4,5,6,7}\n",
        "B = {2,3,4,8,9,10}\n",
        "C,D = {1,3,5,7}, {4,5,8,9}\n",
        "\n",
        "print(\"A : \",A)\n",
        "print(\"B : \",B)\n",
        "print(\"C : \",C)\n",
        "print(\"D : \",D)\n",
        "\n",
        "# Set difference\n",
        "\n",
        "print(\"A - B : \",A.difference(B))\n",
        "\n",
        "# Intersection\n",
        "\n",
        "print(\"C intersection D : \",C.intersection(D))\n",
        "\n",
        "# Union\n",
        "\n",
        "print(\"B union D : \",B.union(D))\n",
        "\n",
        "# Checking for subset\n",
        "\n",
        "print(\"Is C subset of A? : \",C.issubset(A))\n",
        "print(\"Is D subset of B? : \",D.issubset(B))\n",
        "print(\"Is B subset of A? : \",B.issubset(A))\n",
        "\n",
        "# Checking for disjoint\n",
        "\n",
        "print(\"Are C and D disjoint? : \",C.isdisjoint(D))"
      ],
      "execution_count": 0,
      "outputs": [
        {
          "output_type": "stream",
          "text": [
            "A :  {1, 2, 3, 4, 5, 6, 7}\n",
            "B :  {2, 3, 4, 8, 9, 10}\n",
            "C :  {1, 3, 5, 7}\n",
            "D :  {8, 9, 4, 5}\n",
            "A - B :  {1, 5, 6, 7}\n",
            "C intersection D :  {5}\n",
            "B union D :  {2, 3, 4, 5, 8, 9, 10}\n",
            "Is C subset of A? :  True\n",
            "Is D subset of B? :  False\n",
            "Is B subset of A? :  False\n",
            "Are C and D disjoint? :  False\n"
          ],
          "name": "stdout"
        }
      ]
    },
    {
      "cell_type": "markdown",
      "metadata": {
        "id": "y9sFWTy0XaQj",
        "colab_type": "text"
      },
      "source": [
        "## Strings"
      ]
    },
    {
      "cell_type": "code",
      "metadata": {
        "id": "n85VAhK8Xb-q",
        "colab_type": "code",
        "outputId": "b4738061-3bbf-48e9-f136-7c1235b74646",
        "colab": {
          "base_uri": "https://localhost:8080/",
          "height": 161
        }
      },
      "source": [
        "# String operations\n",
        "\n",
        "str = 'Keeping time, time, time... In a sort of runic rhyme... To the tintinnabulation... That so musically wells...'  # A string\n",
        "\n",
        "print(str)          # Prints complete string\n",
        "print(str[0])       # Prints first character of the string\n",
        "print(str[2:15])     # Prints characters starting from 3rd to 15th element\n",
        "print(str[17:])      # Prints string starting from 17th character\n",
        "print(str[:12])      # Prints upto 12th character\n",
        "print(str * 2)      # Prints string two times\n",
        "print(str + \"---Edgar Allan Poe\") # Prints concatenated string"
      ],
      "execution_count": 0,
      "outputs": [
        {
          "output_type": "stream",
          "text": [
            "Keeping time, time, time... In a sort of runic rhyme... To the tintinnabulation... That so musically wells...\n",
            "K\n",
            "eping time, t\n",
            "e, time... In a sort of runic rhyme... To the tintinnabulation... That so musically wells...\n",
            "Keeping time\n",
            "Keeping time, time, time... In a sort of runic rhyme... To the tintinnabulation... That so musically wells...Keeping time, time, time... In a sort of runic rhyme... To the tintinnabulation... That so musically wells...\n",
            "Keeping time, time, time... In a sort of runic rhyme... To the tintinnabulation... That so musically wells...---Edgar Allan Poe\n"
          ],
          "name": "stdout"
        }
      ]
    },
    {
      "cell_type": "markdown",
      "metadata": {
        "id": "4eEPAwMSZSUm",
        "colab_type": "text"
      },
      "source": [
        "## Control Statements"
      ]
    },
    {
      "cell_type": "code",
      "metadata": {
        "id": "-Zkao4E_ZRz2",
        "colab_type": "code",
        "outputId": "8757858b-9fd3-46e6-84f1-e6b4e7cf17bf",
        "colab": {
          "base_uri": "https://localhost:8080/",
          "height": 153
        }
      },
      "source": [
        "# if \n",
        "\n",
        "a,b,c = 5,3,3498\n",
        "\n",
        "if a > 2:\n",
        "  print(\"Blistering Barnackles!!!\")\n",
        "\n",
        "  \n",
        "  \n",
        "# if ... else\n",
        "\n",
        "\n",
        "if a < b:\n",
        "  print(\"Catch me if you can...\")\n",
        "else:\n",
        "  print(\"A garden is a lovesome thing, God Wot!\")\n",
        "  \n",
        "  \n",
        "  \n",
        "# with and ... or\n",
        "\n",
        "\n",
        "if (a<c) and (b<c):\n",
        "  print(\"She sells sea shells on the sea shore\")\n",
        "  \n",
        "if (a<b) or (b==3):\n",
        "  print(\"Rats live on no evil star\")\n",
        "  \n",
        "'''\n",
        "Other simple tricks\n",
        "By the way this is \n",
        "\n",
        "\n",
        "multi line comments\n",
        "\n",
        "\n",
        "'''\n",
        "\n",
        "x, y, z = 0, 1, 0\n",
        "\n",
        "if x == 1 or y == 1 or z == 1:\n",
        "    print('passed Level 0')\n",
        "\n",
        "if 1 in (x, y, z):\n",
        "    print('passed Level 1')\n",
        "\n",
        "# These only test for truthiness:\n",
        "if x or y or z:\n",
        "    print('passed Level 2')\n",
        "\n",
        "if any((x, y, z)):\n",
        "    print('passed Level 3')"
      ],
      "execution_count": 0,
      "outputs": [
        {
          "output_type": "stream",
          "text": [
            "Blistering Barnackles!!!\n",
            "A garden is a lovesome thing, God Wot!\n",
            "She sells sea shells on the sea shore\n",
            "Rats live on no evil star\n",
            "passed Level 0\n",
            "passed Level 1\n",
            "passed Level 2\n",
            "passed Level 3\n"
          ],
          "name": "stdout"
        }
      ]
    },
    {
      "cell_type": "code",
      "metadata": {
        "id": "I4ugskaP0lJH",
        "colab_type": "code",
        "outputId": "466d97b0-3cfb-456d-9d94-9103f045b3b8",
        "colab": {
          "base_uri": "https://localhost:8080/",
          "height": 357
        }
      },
      "source": [
        "# loops\n",
        "# for loop\n",
        "\n",
        "for i in range(0,10):\n",
        "    \n",
        "    if i%2 == 0:\n",
        "        print(\"Square of \",i,\" is :\",i*i)\n",
        "        \n",
        "    else:\n",
        "        print(i,\"is an odd number\")    \n",
        "        \n",
        "characters = [\"Holmes\",\"Poirot\",\"Bond\",\"Hunt\"]\n",
        "\n",
        "for x in characters:\n",
        "  print(\"Hi I am \", x)\n",
        "  \n",
        "  \n",
        "for x in characters[0]:\n",
        "  print(x)\n"
      ],
      "execution_count": 0,
      "outputs": [
        {
          "output_type": "stream",
          "text": [
            "Square of  0  is : 0\n",
            "1 is an odd number\n",
            "Square of  2  is : 4\n",
            "3 is an odd number\n",
            "Square of  4  is : 16\n",
            "5 is an odd number\n",
            "Square of  6  is : 36\n",
            "7 is an odd number\n",
            "Square of  8  is : 64\n",
            "9 is an odd number\n",
            "Hi I am  Holmes\n",
            "Hi I am  Poirot\n",
            "Hi I am  Bond\n",
            "Hi I am  Hunt\n",
            "H\n",
            "o\n",
            "l\n",
            "m\n",
            "e\n",
            "s\n"
          ],
          "name": "stdout"
        }
      ]
    },
    {
      "cell_type": "markdown",
      "metadata": {
        "id": "BClilXbR2HdJ",
        "colab_type": "text"
      },
      "source": [
        "## Functions"
      ]
    },
    {
      "cell_type": "code",
      "metadata": {
        "id": "OzQv7q_y2JWe",
        "colab_type": "code",
        "outputId": "e230c9af-b392-47da-d28b-238d30444fb0",
        "colab": {
          "base_uri": "https://localhost:8080/",
          "height": 34
        }
      },
      "source": [
        "'''\n",
        "Functions start with def keyword\n",
        "'''\n",
        "\n",
        "def area(length,width):\n",
        "    return length*width\n",
        "\n",
        "  \n",
        "are = area(10,20)\n",
        "print(\"Area of rectangle:\",are)"
      ],
      "execution_count": 0,
      "outputs": [
        {
          "output_type": "stream",
          "text": [
            "Area of rectangle: 200\n"
          ],
          "name": "stdout"
        }
      ]
    },
    {
      "cell_type": "markdown",
      "metadata": {
        "id": "p9upqExR2iyr",
        "colab_type": "text"
      },
      "source": [
        "## Class"
      ]
    },
    {
      "cell_type": "code",
      "metadata": {
        "id": "Xn4478So2lGg",
        "colab_type": "code",
        "outputId": "8b2a71eb-5c34-4427-8a9b-32bdfa4cc9e6",
        "colab": {
          "base_uri": "https://localhost:8080/",
          "height": 85
        }
      },
      "source": [
        "class my_class:\n",
        "    \n",
        "    mean_x = 0\n",
        "    mean_y = 0\n",
        "    \n",
        "    def __init__(self,i,j):\n",
        "        self.x = i\n",
        "        self.y = j\n",
        "        \n",
        "        \n",
        "    def show(self):\n",
        "        print (self.x)\n",
        "        print (self.y)\n",
        "        \n",
        "    def mean(self):\n",
        "        sizex = len(self.x)\n",
        "        sumx = 0\n",
        "        for i in self.x:\n",
        "            sumx = sumx + i\n",
        "        sizey = len(self.y)\n",
        "        sumy = 0\n",
        "        for i in self.y:\n",
        "            sumy = sumy + i            \n",
        "        \n",
        "        mean_x = sumx/sizex\n",
        "        mean_y = sumy/sizey\n",
        "        self.mean_x = mean_x\n",
        "        self.mean_y = mean_y\n",
        "        \n",
        "        print (\"Mean x : \",mean_x)\n",
        "        print (\"Mean y : \",mean_y)\n",
        "\n",
        "def main():\n",
        "    x = [0,1,2,3,4,5,6,7,8,9]\n",
        "    y = [1,2,4,5,4,3,7,6,7,8]\n",
        "    \n",
        "    obj_ref = my_class(x,y)\n",
        "    obj_ref.show()\n",
        "    obj_ref.mean()        \n",
        "        \n",
        "main()"
      ],
      "execution_count": 0,
      "outputs": [
        {
          "output_type": "stream",
          "text": [
            "[0, 1, 2, 3, 4, 5, 6, 7, 8, 9]\n",
            "[1, 2, 4, 5, 4, 3, 7, 6, 7, 8]\n",
            "Mean x :  4.5\n",
            "Mean y :  4.7\n"
          ],
          "name": "stdout"
        }
      ]
    }
  ]
}